{
  "nbformat": 4,
  "nbformat_minor": 0,
  "metadata": {
    "colab": {
      "provenance": [],
      "toc_visible": true
    },
    "kernelspec": {
      "name": "python3",
      "display_name": "Python 3"
    },
    "language_info": {
      "name": "python"
    }
  },
  "cells": [
    {
      "cell_type": "markdown",
      "source": [
        "# Importing Required Libraries"
      ],
      "metadata": {
        "id": "2Gm8VCRrwyhh"
      }
    },
    {
      "cell_type": "code",
      "source": [
        "import pandas as pd"
      ],
      "metadata": {
        "id": "u2FQVUtyVzdF"
      },
      "execution_count": 1,
      "outputs": []
    },
    {
      "cell_type": "markdown",
      "source": [
        "# Defining Class Map"
      ],
      "metadata": {
        "id": "CziuCDR5w2Hu"
      }
    },
    {
      "cell_type": "code",
      "source": [
        "class_map = {\n",
        "    'none' : 0,\n",
        "    'sexism' : 1,\n",
        "    'racism' : 2\n",
        "}"
      ],
      "metadata": {
        "id": "QY5a3PKUn-U-"
      },
      "execution_count": 2,
      "outputs": []
    },
    {
      "cell_type": "markdown",
      "source": [
        "# File Paths"
      ],
      "metadata": {
        "id": "i4Vb-iHAu-vE"
      }
    },
    {
      "cell_type": "code",
      "execution_count": 3,
      "metadata": {
        "id": "MPRQL12HPJzQ"
      },
      "outputs": [],
      "source": [
        "train_file_path = '/content/trainset.txt'\n",
        "dev_file_path = '/content/devset.txt'\n",
        "test_file_path = '/content/testset.txt'\n",
        "\n",
        "wiegand_lexicon_file_path = '/content/hate_lexicon_wiegand.txt'\n",
        "small_lexicon = '/content/hate_lexicon_small.txt'"
      ]
    },
    {
      "cell_type": "markdown",
      "source": [
        "# Funtions"
      ],
      "metadata": {
        "id": "GpThJ6Iew6uy"
      }
    },
    {
      "cell_type": "markdown",
      "source": [
        "## Read Contents of a File"
      ],
      "metadata": {
        "id": "XhRMI_M9w-cy"
      }
    },
    {
      "cell_type": "code",
      "source": [
        "def get_data_from_file(file_path):\n",
        "  with open(file_path) as f:\n",
        "    lines = f.readlines()\n",
        "    contents = [line.rstrip('\\n').strip() for line in lines]\n",
        "\n",
        "  return contents"
      ],
      "metadata": {
        "id": "RIXN648FW6pX"
      },
      "execution_count": 4,
      "outputs": []
    },
    {
      "cell_type": "markdown",
      "source": [
        "## Generate Feature Matrix"
      ],
      "metadata": {
        "id": "7ch69m8ExFhI"
      }
    },
    {
      "cell_type": "code",
      "source": [
        "# gets the feauture matrix based on the dataset and lexicon\n",
        "def get_feature_matrix(dataset,lexicons):\n",
        "  feature_matrix = []\n",
        "\n",
        "\n",
        "  for line in dataset:\n",
        "    all_words = line.split()\n",
        "    line_words = all_words[:-1]\n",
        "    feature_vector = []\n",
        "\n",
        "    for lexicon in lexicons:\n",
        "      if lexicon in line_words:\n",
        "        feature_vector.append(1)\n",
        "      else:\n",
        "        feature_vector.append(0)\n",
        "\n",
        "    label_number = class_map[all_words[-1]]\n",
        "    feature_vector.append(label_number)\n",
        "    \n",
        "    feature_matrix.append(feature_vector)\n",
        "\n",
        "  return feature_matrix"
      ],
      "metadata": {
        "id": "IklNeSAaxEWX"
      },
      "execution_count": null,
      "outputs": []
    },
    {
      "cell_type": "markdown",
      "source": [
        "# Extract Data"
      ],
      "metadata": {
        "id": "WDuHH8PvvFms"
      }
    },
    {
      "cell_type": "markdown",
      "source": [
        "## Training Data"
      ],
      "metadata": {
        "id": "cAfAhsQ2u7cm"
      }
    },
    {
      "cell_type": "code",
      "source": [
        "# gets training data\n",
        "training_data = get_data_from_file(train_file_path)\n",
        "training_data = [text for text in training_data if text]"
      ],
      "metadata": {
        "id": "-_bS15YhXhdk"
      },
      "execution_count": 5,
      "outputs": []
    },
    {
      "cell_type": "code",
      "source": [
        "# view first 5 records of training data\n",
        "training_data[:5]"
      ],
      "metadata": {
        "colab": {
          "base_uri": "https://localhost:8080/"
        },
        "id": "uA1MJ1tmXtxF",
        "outputId": "94e7d8d5-f099-41ec-c16b-ff659f3d368d"
      },
      "execution_count": 6,
      "outputs": [
        {
          "output_type": "execute_result",
          "data": {
            "text/plain": [
              "['These two are revolting MKR MKR sexism',\n",
              " 'katieandnikki stop calling yourselves pretty and hot you re not and saying it a million times doesn t make you either STFU MKR sexism',\n",
              " 'The menus look like they were made by a year old little girl in this case just the mental age of a year old girl I guess MKR sexism',\n",
              " 'Wish these blondes were in that How To Get Away With Murder show MKR sexism',\n",
              " 'Were butchers but can t tell red poultry is not cooked salmonellaqueens MKR sexism']"
            ]
          },
          "metadata": {},
          "execution_count": 6
        }
      ]
    },
    {
      "cell_type": "code",
      "source": [
        "# gets wiegand lexicons\n",
        "wiegand_lexicons = get_data_from_file(wiegand_lexicon_file_path)"
      ],
      "metadata": {
        "id": "BOQqKf7DXxqT"
      },
      "execution_count": 7,
      "outputs": []
    },
    {
      "cell_type": "code",
      "source": [
        "# view first 5 wiegand lexicons\n",
        "wiegand_lexicons[:5]"
      ],
      "metadata": {
        "colab": {
          "base_uri": "https://localhost:8080/"
        },
        "id": "XCe9TprHYCcf",
        "outputId": "687e10b3-7439-4e26-d6a2-3226367ea4f0"
      },
      "execution_count": 9,
      "outputs": [
        {
          "output_type": "execute_result",
          "data": {
            "text/plain": [
              "['Hun', 'Jap', 'Jihadi', 'Yardie', 'abhor']"
            ]
          },
          "metadata": {},
          "execution_count": 9
        }
      ]
    },
    {
      "cell_type": "code",
      "source": [
        "# adds labels as one of the columns\n",
        "all_columns = wiegand_lexicons[:]\n",
        "all_columns.append('label')"
      ],
      "metadata": {
        "id": "gaeJqb4wTaPP"
      },
      "execution_count": 10,
      "outputs": []
    },
    {
      "cell_type": "code",
      "source": [
        "# gets the feature matrix for wiegand lexicons\n",
        "train_wiegand_feature_matrix = get_feature_matrix(training_data, wiegand_lexicons)"
      ],
      "metadata": {
        "id": "Hjvct2c5ZYmn"
      },
      "execution_count": 11,
      "outputs": []
    },
    {
      "cell_type": "code",
      "source": [
        "# converts the wiegand feature matrix into a data frame\n",
        "df_train_wiegand = pd.DataFrame(train_wiegand_feature_matrix, columns = all_columns)"
      ],
      "metadata": {
        "id": "YRiSZHBaVbD1"
      },
      "execution_count": 12,
      "outputs": []
    },
    {
      "cell_type": "code",
      "source": [
        "# viewing first 5 rows\n",
        "df_train_wiegand.head()"
      ],
      "metadata": {
        "colab": {
          "base_uri": "https://localhost:8080/",
          "height": 297
        },
        "id": "t8SWNIerV7EM",
        "outputId": "975c346f-2bec-45e6-fd73-2c7088b527b8"
      },
      "execution_count": 13,
      "outputs": [
        {
          "output_type": "execute_result",
          "data": {
            "text/plain": [
              "   Hun  Jap  Jihadi  Yardie  abhor  abominable  abomination  abusive  affront  \\\n",
              "0    0    0       0       0      0           0            0        0        0   \n",
              "1    0    0       0       0      0           0            0        0        0   \n",
              "2    0    0       0       0      0           0            0        0        0   \n",
              "3    0    0       0       0      0           0            0        0        0   \n",
              "4    0    0       0       0      0           0            0        0        0   \n",
              "\n",
              "   agitator  ...  wolly  wop  worthless  wreck  wreck  yarpie  yokel  zealot  \\\n",
              "0         0  ...      0    0          0      0      0       0      0       0   \n",
              "1         0  ...      0    0          0      0      0       0      0       0   \n",
              "2         0  ...      0    0          0      0      0       0      0       0   \n",
              "3         0  ...      0    0          0      0      0       0      0       0   \n",
              "4         0  ...      0    0          0      0      0       0      0       0   \n",
              "\n",
              "   zigabo  label  \n",
              "0       0      1  \n",
              "1       0      1  \n",
              "2       0      1  \n",
              "3       0      1  \n",
              "4       0      1  \n",
              "\n",
              "[5 rows x 552 columns]"
            ],
            "text/html": [
              "\n",
              "  <div id=\"df-92cc4eef-e8dc-4723-bd68-bb78bee26c87\">\n",
              "    <div class=\"colab-df-container\">\n",
              "      <div>\n",
              "<style scoped>\n",
              "    .dataframe tbody tr th:only-of-type {\n",
              "        vertical-align: middle;\n",
              "    }\n",
              "\n",
              "    .dataframe tbody tr th {\n",
              "        vertical-align: top;\n",
              "    }\n",
              "\n",
              "    .dataframe thead th {\n",
              "        text-align: right;\n",
              "    }\n",
              "</style>\n",
              "<table border=\"1\" class=\"dataframe\">\n",
              "  <thead>\n",
              "    <tr style=\"text-align: right;\">\n",
              "      <th></th>\n",
              "      <th>Hun</th>\n",
              "      <th>Jap</th>\n",
              "      <th>Jihadi</th>\n",
              "      <th>Yardie</th>\n",
              "      <th>abhor</th>\n",
              "      <th>abominable</th>\n",
              "      <th>abomination</th>\n",
              "      <th>abusive</th>\n",
              "      <th>affront</th>\n",
              "      <th>agitator</th>\n",
              "      <th>...</th>\n",
              "      <th>wolly</th>\n",
              "      <th>wop</th>\n",
              "      <th>worthless</th>\n",
              "      <th>wreck</th>\n",
              "      <th>wreck</th>\n",
              "      <th>yarpie</th>\n",
              "      <th>yokel</th>\n",
              "      <th>zealot</th>\n",
              "      <th>zigabo</th>\n",
              "      <th>label</th>\n",
              "    </tr>\n",
              "  </thead>\n",
              "  <tbody>\n",
              "    <tr>\n",
              "      <th>0</th>\n",
              "      <td>0</td>\n",
              "      <td>0</td>\n",
              "      <td>0</td>\n",
              "      <td>0</td>\n",
              "      <td>0</td>\n",
              "      <td>0</td>\n",
              "      <td>0</td>\n",
              "      <td>0</td>\n",
              "      <td>0</td>\n",
              "      <td>0</td>\n",
              "      <td>...</td>\n",
              "      <td>0</td>\n",
              "      <td>0</td>\n",
              "      <td>0</td>\n",
              "      <td>0</td>\n",
              "      <td>0</td>\n",
              "      <td>0</td>\n",
              "      <td>0</td>\n",
              "      <td>0</td>\n",
              "      <td>0</td>\n",
              "      <td>1</td>\n",
              "    </tr>\n",
              "    <tr>\n",
              "      <th>1</th>\n",
              "      <td>0</td>\n",
              "      <td>0</td>\n",
              "      <td>0</td>\n",
              "      <td>0</td>\n",
              "      <td>0</td>\n",
              "      <td>0</td>\n",
              "      <td>0</td>\n",
              "      <td>0</td>\n",
              "      <td>0</td>\n",
              "      <td>0</td>\n",
              "      <td>...</td>\n",
              "      <td>0</td>\n",
              "      <td>0</td>\n",
              "      <td>0</td>\n",
              "      <td>0</td>\n",
              "      <td>0</td>\n",
              "      <td>0</td>\n",
              "      <td>0</td>\n",
              "      <td>0</td>\n",
              "      <td>0</td>\n",
              "      <td>1</td>\n",
              "    </tr>\n",
              "    <tr>\n",
              "      <th>2</th>\n",
              "      <td>0</td>\n",
              "      <td>0</td>\n",
              "      <td>0</td>\n",
              "      <td>0</td>\n",
              "      <td>0</td>\n",
              "      <td>0</td>\n",
              "      <td>0</td>\n",
              "      <td>0</td>\n",
              "      <td>0</td>\n",
              "      <td>0</td>\n",
              "      <td>...</td>\n",
              "      <td>0</td>\n",
              "      <td>0</td>\n",
              "      <td>0</td>\n",
              "      <td>0</td>\n",
              "      <td>0</td>\n",
              "      <td>0</td>\n",
              "      <td>0</td>\n",
              "      <td>0</td>\n",
              "      <td>0</td>\n",
              "      <td>1</td>\n",
              "    </tr>\n",
              "    <tr>\n",
              "      <th>3</th>\n",
              "      <td>0</td>\n",
              "      <td>0</td>\n",
              "      <td>0</td>\n",
              "      <td>0</td>\n",
              "      <td>0</td>\n",
              "      <td>0</td>\n",
              "      <td>0</td>\n",
              "      <td>0</td>\n",
              "      <td>0</td>\n",
              "      <td>0</td>\n",
              "      <td>...</td>\n",
              "      <td>0</td>\n",
              "      <td>0</td>\n",
              "      <td>0</td>\n",
              "      <td>0</td>\n",
              "      <td>0</td>\n",
              "      <td>0</td>\n",
              "      <td>0</td>\n",
              "      <td>0</td>\n",
              "      <td>0</td>\n",
              "      <td>1</td>\n",
              "    </tr>\n",
              "    <tr>\n",
              "      <th>4</th>\n",
              "      <td>0</td>\n",
              "      <td>0</td>\n",
              "      <td>0</td>\n",
              "      <td>0</td>\n",
              "      <td>0</td>\n",
              "      <td>0</td>\n",
              "      <td>0</td>\n",
              "      <td>0</td>\n",
              "      <td>0</td>\n",
              "      <td>0</td>\n",
              "      <td>...</td>\n",
              "      <td>0</td>\n",
              "      <td>0</td>\n",
              "      <td>0</td>\n",
              "      <td>0</td>\n",
              "      <td>0</td>\n",
              "      <td>0</td>\n",
              "      <td>0</td>\n",
              "      <td>0</td>\n",
              "      <td>0</td>\n",
              "      <td>1</td>\n",
              "    </tr>\n",
              "  </tbody>\n",
              "</table>\n",
              "<p>5 rows × 552 columns</p>\n",
              "</div>\n",
              "      <button class=\"colab-df-convert\" onclick=\"convertToInteractive('df-92cc4eef-e8dc-4723-bd68-bb78bee26c87')\"\n",
              "              title=\"Convert this dataframe to an interactive table.\"\n",
              "              style=\"display:none;\">\n",
              "        \n",
              "  <svg xmlns=\"http://www.w3.org/2000/svg\" height=\"24px\"viewBox=\"0 0 24 24\"\n",
              "       width=\"24px\">\n",
              "    <path d=\"M0 0h24v24H0V0z\" fill=\"none\"/>\n",
              "    <path d=\"M18.56 5.44l.94 2.06.94-2.06 2.06-.94-2.06-.94-.94-2.06-.94 2.06-2.06.94zm-11 1L8.5 8.5l.94-2.06 2.06-.94-2.06-.94L8.5 2.5l-.94 2.06-2.06.94zm10 10l.94 2.06.94-2.06 2.06-.94-2.06-.94-.94-2.06-.94 2.06-2.06.94z\"/><path d=\"M17.41 7.96l-1.37-1.37c-.4-.4-.92-.59-1.43-.59-.52 0-1.04.2-1.43.59L10.3 9.45l-7.72 7.72c-.78.78-.78 2.05 0 2.83L4 21.41c.39.39.9.59 1.41.59.51 0 1.02-.2 1.41-.59l7.78-7.78 2.81-2.81c.8-.78.8-2.07 0-2.86zM5.41 20L4 18.59l7.72-7.72 1.47 1.35L5.41 20z\"/>\n",
              "  </svg>\n",
              "      </button>\n",
              "      \n",
              "  <style>\n",
              "    .colab-df-container {\n",
              "      display:flex;\n",
              "      flex-wrap:wrap;\n",
              "      gap: 12px;\n",
              "    }\n",
              "\n",
              "    .colab-df-convert {\n",
              "      background-color: #E8F0FE;\n",
              "      border: none;\n",
              "      border-radius: 50%;\n",
              "      cursor: pointer;\n",
              "      display: none;\n",
              "      fill: #1967D2;\n",
              "      height: 32px;\n",
              "      padding: 0 0 0 0;\n",
              "      width: 32px;\n",
              "    }\n",
              "\n",
              "    .colab-df-convert:hover {\n",
              "      background-color: #E2EBFA;\n",
              "      box-shadow: 0px 1px 2px rgba(60, 64, 67, 0.3), 0px 1px 3px 1px rgba(60, 64, 67, 0.15);\n",
              "      fill: #174EA6;\n",
              "    }\n",
              "\n",
              "    [theme=dark] .colab-df-convert {\n",
              "      background-color: #3B4455;\n",
              "      fill: #D2E3FC;\n",
              "    }\n",
              "\n",
              "    [theme=dark] .colab-df-convert:hover {\n",
              "      background-color: #434B5C;\n",
              "      box-shadow: 0px 1px 3px 1px rgba(0, 0, 0, 0.15);\n",
              "      filter: drop-shadow(0px 1px 2px rgba(0, 0, 0, 0.3));\n",
              "      fill: #FFFFFF;\n",
              "    }\n",
              "  </style>\n",
              "\n",
              "      <script>\n",
              "        const buttonEl =\n",
              "          document.querySelector('#df-92cc4eef-e8dc-4723-bd68-bb78bee26c87 button.colab-df-convert');\n",
              "        buttonEl.style.display =\n",
              "          google.colab.kernel.accessAllowed ? 'block' : 'none';\n",
              "\n",
              "        async function convertToInteractive(key) {\n",
              "          const element = document.querySelector('#df-92cc4eef-e8dc-4723-bd68-bb78bee26c87');\n",
              "          const dataTable =\n",
              "            await google.colab.kernel.invokeFunction('convertToInteractive',\n",
              "                                                     [key], {});\n",
              "          if (!dataTable) return;\n",
              "\n",
              "          const docLinkHtml = 'Like what you see? Visit the ' +\n",
              "            '<a target=\"_blank\" href=https://colab.research.google.com/notebooks/data_table.ipynb>data table notebook</a>'\n",
              "            + ' to learn more about interactive tables.';\n",
              "          element.innerHTML = '';\n",
              "          dataTable['output_type'] = 'display_data';\n",
              "          await google.colab.output.renderOutput(dataTable, element);\n",
              "          const docLink = document.createElement('div');\n",
              "          docLink.innerHTML = docLinkHtml;\n",
              "          element.appendChild(docLink);\n",
              "        }\n",
              "      </script>\n",
              "    </div>\n",
              "  </div>\n",
              "  "
            ]
          },
          "metadata": {},
          "execution_count": 13
        }
      ]
    },
    {
      "cell_type": "code",
      "source": [
        "# saves the wiegand feature matrix into a csv\n",
        "df_train_wiegand.to_csv(\"train_wiegand.csv\", index=False)"
      ],
      "metadata": {
        "id": "9cP2W1uTafmo"
      },
      "execution_count": 14,
      "outputs": []
    },
    {
      "cell_type": "markdown",
      "source": [
        "## Testing Data"
      ],
      "metadata": {
        "id": "5OmqD1m0u3o7"
      }
    },
    {
      "cell_type": "code",
      "source": [
        "# gets testing data\n",
        "testing_data = get_data_from_file(test_file_path)\n",
        "testing_data = [text for text in testing_data if text]"
      ],
      "metadata": {
        "id": "X0x9HUytd5DD"
      },
      "execution_count": 15,
      "outputs": []
    },
    {
      "cell_type": "code",
      "source": [
        "testing_data[:5]"
      ],
      "metadata": {
        "colab": {
          "base_uri": "https://localhost:8080/"
        },
        "id": "oP34Nhn7d5Ax",
        "outputId": "4c965d06-6f00-4ff1-806d-2259bd85977e"
      },
      "execution_count": 16,
      "outputs": [
        {
          "output_type": "execute_result",
          "data": {
            "text/plain": [
              "['I believe the correct term is bortches gailsimone BenDay I m not sexist but some girls are just straight birches honestly sexism',\n",
              " 'Yeah nothing to do with growing up being told as such liamkiniery Men s MMA is far better than women MMA notsexist justbiology sexism',\n",
              " 'RT Vonta I m not sexist but I d never get my hair cut by a women just like I m not racist but I d never eat chicken fried by a white p sexism',\n",
              " 'Turn up your hearing aid A thought C tWINO I m not sexist but it s nearly impossible to listen to a girl talking about football on ESPN sexism',\n",
              " 'RT andythewookie YesYoureSexist your right im a wanker But I don t even have enough space in five tweets to point out how much of a cu sexism']"
            ]
          },
          "metadata": {},
          "execution_count": 16
        }
      ]
    },
    {
      "cell_type": "code",
      "source": [
        "test_wiegand_feature_matrix = get_feature_matrix(testing_data, wiegand_lexicons)"
      ],
      "metadata": {
        "id": "Et7wEIzmd4-b"
      },
      "execution_count": 17,
      "outputs": []
    },
    {
      "cell_type": "code",
      "source": [
        "df_test_wiegand = pd.DataFrame(test_wiegand_feature_matrix, columns = all_columns)"
      ],
      "metadata": {
        "id": "7cAMKqXvjXwu"
      },
      "execution_count": 18,
      "outputs": []
    },
    {
      "cell_type": "code",
      "source": [
        "df_test_wiegand.head()"
      ],
      "metadata": {
        "colab": {
          "base_uri": "https://localhost:8080/",
          "height": 297
        },
        "id": "9ouX2m1fjb3b",
        "outputId": "a3af2a02-bd55-4df7-f0eb-4adf3d5a987b"
      },
      "execution_count": 19,
      "outputs": [
        {
          "output_type": "execute_result",
          "data": {
            "text/plain": [
              "   Hun  Jap  Jihadi  Yardie  abhor  abominable  abomination  abusive  affront  \\\n",
              "0    0    0       0       0      0           0            0        0        0   \n",
              "1    0    0       0       0      0           0            0        0        0   \n",
              "2    0    0       0       0      0           0            0        0        0   \n",
              "3    0    0       0       0      0           0            0        0        0   \n",
              "4    0    0       0       0      0           0            0        0        0   \n",
              "\n",
              "   agitator  ...  wolly  wop  worthless  wreck  wreck  yarpie  yokel  zealot  \\\n",
              "0         0  ...      0    0          0      0      0       0      0       0   \n",
              "1         0  ...      0    0          0      0      0       0      0       0   \n",
              "2         0  ...      0    0          0      0      0       0      0       0   \n",
              "3         0  ...      0    0          0      0      0       0      0       0   \n",
              "4         0  ...      0    0          0      0      0       0      0       0   \n",
              "\n",
              "   zigabo  label  \n",
              "0       0      1  \n",
              "1       0      1  \n",
              "2       0      1  \n",
              "3       0      1  \n",
              "4       0      1  \n",
              "\n",
              "[5 rows x 552 columns]"
            ],
            "text/html": [
              "\n",
              "  <div id=\"df-6583e669-7a64-41b3-a288-c154215aa922\">\n",
              "    <div class=\"colab-df-container\">\n",
              "      <div>\n",
              "<style scoped>\n",
              "    .dataframe tbody tr th:only-of-type {\n",
              "        vertical-align: middle;\n",
              "    }\n",
              "\n",
              "    .dataframe tbody tr th {\n",
              "        vertical-align: top;\n",
              "    }\n",
              "\n",
              "    .dataframe thead th {\n",
              "        text-align: right;\n",
              "    }\n",
              "</style>\n",
              "<table border=\"1\" class=\"dataframe\">\n",
              "  <thead>\n",
              "    <tr style=\"text-align: right;\">\n",
              "      <th></th>\n",
              "      <th>Hun</th>\n",
              "      <th>Jap</th>\n",
              "      <th>Jihadi</th>\n",
              "      <th>Yardie</th>\n",
              "      <th>abhor</th>\n",
              "      <th>abominable</th>\n",
              "      <th>abomination</th>\n",
              "      <th>abusive</th>\n",
              "      <th>affront</th>\n",
              "      <th>agitator</th>\n",
              "      <th>...</th>\n",
              "      <th>wolly</th>\n",
              "      <th>wop</th>\n",
              "      <th>worthless</th>\n",
              "      <th>wreck</th>\n",
              "      <th>wreck</th>\n",
              "      <th>yarpie</th>\n",
              "      <th>yokel</th>\n",
              "      <th>zealot</th>\n",
              "      <th>zigabo</th>\n",
              "      <th>label</th>\n",
              "    </tr>\n",
              "  </thead>\n",
              "  <tbody>\n",
              "    <tr>\n",
              "      <th>0</th>\n",
              "      <td>0</td>\n",
              "      <td>0</td>\n",
              "      <td>0</td>\n",
              "      <td>0</td>\n",
              "      <td>0</td>\n",
              "      <td>0</td>\n",
              "      <td>0</td>\n",
              "      <td>0</td>\n",
              "      <td>0</td>\n",
              "      <td>0</td>\n",
              "      <td>...</td>\n",
              "      <td>0</td>\n",
              "      <td>0</td>\n",
              "      <td>0</td>\n",
              "      <td>0</td>\n",
              "      <td>0</td>\n",
              "      <td>0</td>\n",
              "      <td>0</td>\n",
              "      <td>0</td>\n",
              "      <td>0</td>\n",
              "      <td>1</td>\n",
              "    </tr>\n",
              "    <tr>\n",
              "      <th>1</th>\n",
              "      <td>0</td>\n",
              "      <td>0</td>\n",
              "      <td>0</td>\n",
              "      <td>0</td>\n",
              "      <td>0</td>\n",
              "      <td>0</td>\n",
              "      <td>0</td>\n",
              "      <td>0</td>\n",
              "      <td>0</td>\n",
              "      <td>0</td>\n",
              "      <td>...</td>\n",
              "      <td>0</td>\n",
              "      <td>0</td>\n",
              "      <td>0</td>\n",
              "      <td>0</td>\n",
              "      <td>0</td>\n",
              "      <td>0</td>\n",
              "      <td>0</td>\n",
              "      <td>0</td>\n",
              "      <td>0</td>\n",
              "      <td>1</td>\n",
              "    </tr>\n",
              "    <tr>\n",
              "      <th>2</th>\n",
              "      <td>0</td>\n",
              "      <td>0</td>\n",
              "      <td>0</td>\n",
              "      <td>0</td>\n",
              "      <td>0</td>\n",
              "      <td>0</td>\n",
              "      <td>0</td>\n",
              "      <td>0</td>\n",
              "      <td>0</td>\n",
              "      <td>0</td>\n",
              "      <td>...</td>\n",
              "      <td>0</td>\n",
              "      <td>0</td>\n",
              "      <td>0</td>\n",
              "      <td>0</td>\n",
              "      <td>0</td>\n",
              "      <td>0</td>\n",
              "      <td>0</td>\n",
              "      <td>0</td>\n",
              "      <td>0</td>\n",
              "      <td>1</td>\n",
              "    </tr>\n",
              "    <tr>\n",
              "      <th>3</th>\n",
              "      <td>0</td>\n",
              "      <td>0</td>\n",
              "      <td>0</td>\n",
              "      <td>0</td>\n",
              "      <td>0</td>\n",
              "      <td>0</td>\n",
              "      <td>0</td>\n",
              "      <td>0</td>\n",
              "      <td>0</td>\n",
              "      <td>0</td>\n",
              "      <td>...</td>\n",
              "      <td>0</td>\n",
              "      <td>0</td>\n",
              "      <td>0</td>\n",
              "      <td>0</td>\n",
              "      <td>0</td>\n",
              "      <td>0</td>\n",
              "      <td>0</td>\n",
              "      <td>0</td>\n",
              "      <td>0</td>\n",
              "      <td>1</td>\n",
              "    </tr>\n",
              "    <tr>\n",
              "      <th>4</th>\n",
              "      <td>0</td>\n",
              "      <td>0</td>\n",
              "      <td>0</td>\n",
              "      <td>0</td>\n",
              "      <td>0</td>\n",
              "      <td>0</td>\n",
              "      <td>0</td>\n",
              "      <td>0</td>\n",
              "      <td>0</td>\n",
              "      <td>0</td>\n",
              "      <td>...</td>\n",
              "      <td>0</td>\n",
              "      <td>0</td>\n",
              "      <td>0</td>\n",
              "      <td>0</td>\n",
              "      <td>0</td>\n",
              "      <td>0</td>\n",
              "      <td>0</td>\n",
              "      <td>0</td>\n",
              "      <td>0</td>\n",
              "      <td>1</td>\n",
              "    </tr>\n",
              "  </tbody>\n",
              "</table>\n",
              "<p>5 rows × 552 columns</p>\n",
              "</div>\n",
              "      <button class=\"colab-df-convert\" onclick=\"convertToInteractive('df-6583e669-7a64-41b3-a288-c154215aa922')\"\n",
              "              title=\"Convert this dataframe to an interactive table.\"\n",
              "              style=\"display:none;\">\n",
              "        \n",
              "  <svg xmlns=\"http://www.w3.org/2000/svg\" height=\"24px\"viewBox=\"0 0 24 24\"\n",
              "       width=\"24px\">\n",
              "    <path d=\"M0 0h24v24H0V0z\" fill=\"none\"/>\n",
              "    <path d=\"M18.56 5.44l.94 2.06.94-2.06 2.06-.94-2.06-.94-.94-2.06-.94 2.06-2.06.94zm-11 1L8.5 8.5l.94-2.06 2.06-.94-2.06-.94L8.5 2.5l-.94 2.06-2.06.94zm10 10l.94 2.06.94-2.06 2.06-.94-2.06-.94-.94-2.06-.94 2.06-2.06.94z\"/><path d=\"M17.41 7.96l-1.37-1.37c-.4-.4-.92-.59-1.43-.59-.52 0-1.04.2-1.43.59L10.3 9.45l-7.72 7.72c-.78.78-.78 2.05 0 2.83L4 21.41c.39.39.9.59 1.41.59.51 0 1.02-.2 1.41-.59l7.78-7.78 2.81-2.81c.8-.78.8-2.07 0-2.86zM5.41 20L4 18.59l7.72-7.72 1.47 1.35L5.41 20z\"/>\n",
              "  </svg>\n",
              "      </button>\n",
              "      \n",
              "  <style>\n",
              "    .colab-df-container {\n",
              "      display:flex;\n",
              "      flex-wrap:wrap;\n",
              "      gap: 12px;\n",
              "    }\n",
              "\n",
              "    .colab-df-convert {\n",
              "      background-color: #E8F0FE;\n",
              "      border: none;\n",
              "      border-radius: 50%;\n",
              "      cursor: pointer;\n",
              "      display: none;\n",
              "      fill: #1967D2;\n",
              "      height: 32px;\n",
              "      padding: 0 0 0 0;\n",
              "      width: 32px;\n",
              "    }\n",
              "\n",
              "    .colab-df-convert:hover {\n",
              "      background-color: #E2EBFA;\n",
              "      box-shadow: 0px 1px 2px rgba(60, 64, 67, 0.3), 0px 1px 3px 1px rgba(60, 64, 67, 0.15);\n",
              "      fill: #174EA6;\n",
              "    }\n",
              "\n",
              "    [theme=dark] .colab-df-convert {\n",
              "      background-color: #3B4455;\n",
              "      fill: #D2E3FC;\n",
              "    }\n",
              "\n",
              "    [theme=dark] .colab-df-convert:hover {\n",
              "      background-color: #434B5C;\n",
              "      box-shadow: 0px 1px 3px 1px rgba(0, 0, 0, 0.15);\n",
              "      filter: drop-shadow(0px 1px 2px rgba(0, 0, 0, 0.3));\n",
              "      fill: #FFFFFF;\n",
              "    }\n",
              "  </style>\n",
              "\n",
              "      <script>\n",
              "        const buttonEl =\n",
              "          document.querySelector('#df-6583e669-7a64-41b3-a288-c154215aa922 button.colab-df-convert');\n",
              "        buttonEl.style.display =\n",
              "          google.colab.kernel.accessAllowed ? 'block' : 'none';\n",
              "\n",
              "        async function convertToInteractive(key) {\n",
              "          const element = document.querySelector('#df-6583e669-7a64-41b3-a288-c154215aa922');\n",
              "          const dataTable =\n",
              "            await google.colab.kernel.invokeFunction('convertToInteractive',\n",
              "                                                     [key], {});\n",
              "          if (!dataTable) return;\n",
              "\n",
              "          const docLinkHtml = 'Like what you see? Visit the ' +\n",
              "            '<a target=\"_blank\" href=https://colab.research.google.com/notebooks/data_table.ipynb>data table notebook</a>'\n",
              "            + ' to learn more about interactive tables.';\n",
              "          element.innerHTML = '';\n",
              "          dataTable['output_type'] = 'display_data';\n",
              "          await google.colab.output.renderOutput(dataTable, element);\n",
              "          const docLink = document.createElement('div');\n",
              "          docLink.innerHTML = docLinkHtml;\n",
              "          element.appendChild(docLink);\n",
              "        }\n",
              "      </script>\n",
              "    </div>\n",
              "  </div>\n",
              "  "
            ]
          },
          "metadata": {},
          "execution_count": 19
        }
      ]
    },
    {
      "cell_type": "code",
      "source": [
        "# saves the wiegand feature matrix into a csv\n",
        "df_test_wiegand.to_csv(\"test_wiegand.csv\", index=False)"
      ],
      "metadata": {
        "id": "xM9PN_ZxjdFh"
      },
      "execution_count": 20,
      "outputs": []
    },
    {
      "cell_type": "markdown",
      "source": [
        "## Development Data"
      ],
      "metadata": {
        "id": "s0zIqQ_Sm4S7"
      }
    },
    {
      "cell_type": "code",
      "source": [
        "# gets testing data\n",
        "devlopment_data = get_data_from_file(dev_file_path)\n",
        "devlopment_data = [text for text in devlopment_data if text]"
      ],
      "metadata": {
        "id": "8QTCVf5Xl3Ei"
      },
      "execution_count": 21,
      "outputs": []
    },
    {
      "cell_type": "code",
      "source": [
        "devlopment_data[:5]"
      ],
      "metadata": {
        "colab": {
          "base_uri": "https://localhost:8080/"
        },
        "outputId": "d1754de1-8551-4716-a188-4fd6fde3030a",
        "id": "haZq62O-l3Ej"
      },
      "execution_count": 22,
      "outputs": [
        {
          "output_type": "execute_result",
          "data": {
            "text/plain": [
              "['RT KweezyKevin I m not sexist but Jesus Christ Sarah palin is a complete joke in politics Hillary is no different better but not much sexism',\n",
              " 'RT Deanowen YesYoureSexist PhilDoran typical woman sticking her nose in sexism',\n",
              " 'RT PhilDoran Deanowen YesYoureSexist go wash some dishes or make me something delicious too eat sexism',\n",
              " 'RT MarchandsEgo I m not sexist in anyway also But some of y all feminists are off your rockers sexism',\n",
              " 'I have some news for you BDJ Mauri I m not sexist but sexist jokes are the funniest jokes out there in my opinion sexism']"
            ]
          },
          "metadata": {},
          "execution_count": 22
        }
      ]
    },
    {
      "cell_type": "code",
      "source": [
        "dev_wiegand_feature_matrix = get_feature_matrix(devlopment_data, wiegand_lexicons)"
      ],
      "metadata": {
        "id": "hOzst_vZl3Ek"
      },
      "execution_count": 23,
      "outputs": []
    },
    {
      "cell_type": "code",
      "source": [
        "df_dev_wiegand = pd.DataFrame(dev_wiegand_feature_matrix, columns = all_columns)"
      ],
      "metadata": {
        "id": "JES5MKEGl3El"
      },
      "execution_count": 24,
      "outputs": []
    },
    {
      "cell_type": "code",
      "source": [
        "df_dev_wiegand.head()"
      ],
      "metadata": {
        "colab": {
          "base_uri": "https://localhost:8080/",
          "height": 297
        },
        "outputId": "2aedcb5a-6b6a-423d-c66d-55c8f6b149ab",
        "id": "4OWDJEWOl3El"
      },
      "execution_count": 25,
      "outputs": [
        {
          "output_type": "execute_result",
          "data": {
            "text/plain": [
              "   Hun  Jap  Jihadi  Yardie  abhor  abominable  abomination  abusive  affront  \\\n",
              "0    0    0       0       0      0           0            0        0        0   \n",
              "1    0    0       0       0      0           0            0        0        0   \n",
              "2    0    0       0       0      0           0            0        0        0   \n",
              "3    0    0       0       0      0           0            0        0        0   \n",
              "4    0    0       0       0      0           0            0        0        0   \n",
              "\n",
              "   agitator  ...  wolly  wop  worthless  wreck  wreck  yarpie  yokel  zealot  \\\n",
              "0         0  ...      0    0          0      0      0       0      0       0   \n",
              "1         0  ...      0    0          0      0      0       0      0       0   \n",
              "2         0  ...      0    0          0      0      0       0      0       0   \n",
              "3         0  ...      0    0          0      0      0       0      0       0   \n",
              "4         0  ...      0    0          0      0      0       0      0       0   \n",
              "\n",
              "   zigabo  label  \n",
              "0       0      1  \n",
              "1       0      1  \n",
              "2       0      1  \n",
              "3       0      1  \n",
              "4       0      1  \n",
              "\n",
              "[5 rows x 552 columns]"
            ],
            "text/html": [
              "\n",
              "  <div id=\"df-a198990e-3800-495a-a776-51e56a7517fe\">\n",
              "    <div class=\"colab-df-container\">\n",
              "      <div>\n",
              "<style scoped>\n",
              "    .dataframe tbody tr th:only-of-type {\n",
              "        vertical-align: middle;\n",
              "    }\n",
              "\n",
              "    .dataframe tbody tr th {\n",
              "        vertical-align: top;\n",
              "    }\n",
              "\n",
              "    .dataframe thead th {\n",
              "        text-align: right;\n",
              "    }\n",
              "</style>\n",
              "<table border=\"1\" class=\"dataframe\">\n",
              "  <thead>\n",
              "    <tr style=\"text-align: right;\">\n",
              "      <th></th>\n",
              "      <th>Hun</th>\n",
              "      <th>Jap</th>\n",
              "      <th>Jihadi</th>\n",
              "      <th>Yardie</th>\n",
              "      <th>abhor</th>\n",
              "      <th>abominable</th>\n",
              "      <th>abomination</th>\n",
              "      <th>abusive</th>\n",
              "      <th>affront</th>\n",
              "      <th>agitator</th>\n",
              "      <th>...</th>\n",
              "      <th>wolly</th>\n",
              "      <th>wop</th>\n",
              "      <th>worthless</th>\n",
              "      <th>wreck</th>\n",
              "      <th>wreck</th>\n",
              "      <th>yarpie</th>\n",
              "      <th>yokel</th>\n",
              "      <th>zealot</th>\n",
              "      <th>zigabo</th>\n",
              "      <th>label</th>\n",
              "    </tr>\n",
              "  </thead>\n",
              "  <tbody>\n",
              "    <tr>\n",
              "      <th>0</th>\n",
              "      <td>0</td>\n",
              "      <td>0</td>\n",
              "      <td>0</td>\n",
              "      <td>0</td>\n",
              "      <td>0</td>\n",
              "      <td>0</td>\n",
              "      <td>0</td>\n",
              "      <td>0</td>\n",
              "      <td>0</td>\n",
              "      <td>0</td>\n",
              "      <td>...</td>\n",
              "      <td>0</td>\n",
              "      <td>0</td>\n",
              "      <td>0</td>\n",
              "      <td>0</td>\n",
              "      <td>0</td>\n",
              "      <td>0</td>\n",
              "      <td>0</td>\n",
              "      <td>0</td>\n",
              "      <td>0</td>\n",
              "      <td>1</td>\n",
              "    </tr>\n",
              "    <tr>\n",
              "      <th>1</th>\n",
              "      <td>0</td>\n",
              "      <td>0</td>\n",
              "      <td>0</td>\n",
              "      <td>0</td>\n",
              "      <td>0</td>\n",
              "      <td>0</td>\n",
              "      <td>0</td>\n",
              "      <td>0</td>\n",
              "      <td>0</td>\n",
              "      <td>0</td>\n",
              "      <td>...</td>\n",
              "      <td>0</td>\n",
              "      <td>0</td>\n",
              "      <td>0</td>\n",
              "      <td>0</td>\n",
              "      <td>0</td>\n",
              "      <td>0</td>\n",
              "      <td>0</td>\n",
              "      <td>0</td>\n",
              "      <td>0</td>\n",
              "      <td>1</td>\n",
              "    </tr>\n",
              "    <tr>\n",
              "      <th>2</th>\n",
              "      <td>0</td>\n",
              "      <td>0</td>\n",
              "      <td>0</td>\n",
              "      <td>0</td>\n",
              "      <td>0</td>\n",
              "      <td>0</td>\n",
              "      <td>0</td>\n",
              "      <td>0</td>\n",
              "      <td>0</td>\n",
              "      <td>0</td>\n",
              "      <td>...</td>\n",
              "      <td>0</td>\n",
              "      <td>0</td>\n",
              "      <td>0</td>\n",
              "      <td>0</td>\n",
              "      <td>0</td>\n",
              "      <td>0</td>\n",
              "      <td>0</td>\n",
              "      <td>0</td>\n",
              "      <td>0</td>\n",
              "      <td>1</td>\n",
              "    </tr>\n",
              "    <tr>\n",
              "      <th>3</th>\n",
              "      <td>0</td>\n",
              "      <td>0</td>\n",
              "      <td>0</td>\n",
              "      <td>0</td>\n",
              "      <td>0</td>\n",
              "      <td>0</td>\n",
              "      <td>0</td>\n",
              "      <td>0</td>\n",
              "      <td>0</td>\n",
              "      <td>0</td>\n",
              "      <td>...</td>\n",
              "      <td>0</td>\n",
              "      <td>0</td>\n",
              "      <td>0</td>\n",
              "      <td>0</td>\n",
              "      <td>0</td>\n",
              "      <td>0</td>\n",
              "      <td>0</td>\n",
              "      <td>0</td>\n",
              "      <td>0</td>\n",
              "      <td>1</td>\n",
              "    </tr>\n",
              "    <tr>\n",
              "      <th>4</th>\n",
              "      <td>0</td>\n",
              "      <td>0</td>\n",
              "      <td>0</td>\n",
              "      <td>0</td>\n",
              "      <td>0</td>\n",
              "      <td>0</td>\n",
              "      <td>0</td>\n",
              "      <td>0</td>\n",
              "      <td>0</td>\n",
              "      <td>0</td>\n",
              "      <td>...</td>\n",
              "      <td>0</td>\n",
              "      <td>0</td>\n",
              "      <td>0</td>\n",
              "      <td>0</td>\n",
              "      <td>0</td>\n",
              "      <td>0</td>\n",
              "      <td>0</td>\n",
              "      <td>0</td>\n",
              "      <td>0</td>\n",
              "      <td>1</td>\n",
              "    </tr>\n",
              "  </tbody>\n",
              "</table>\n",
              "<p>5 rows × 552 columns</p>\n",
              "</div>\n",
              "      <button class=\"colab-df-convert\" onclick=\"convertToInteractive('df-a198990e-3800-495a-a776-51e56a7517fe')\"\n",
              "              title=\"Convert this dataframe to an interactive table.\"\n",
              "              style=\"display:none;\">\n",
              "        \n",
              "  <svg xmlns=\"http://www.w3.org/2000/svg\" height=\"24px\"viewBox=\"0 0 24 24\"\n",
              "       width=\"24px\">\n",
              "    <path d=\"M0 0h24v24H0V0z\" fill=\"none\"/>\n",
              "    <path d=\"M18.56 5.44l.94 2.06.94-2.06 2.06-.94-2.06-.94-.94-2.06-.94 2.06-2.06.94zm-11 1L8.5 8.5l.94-2.06 2.06-.94-2.06-.94L8.5 2.5l-.94 2.06-2.06.94zm10 10l.94 2.06.94-2.06 2.06-.94-2.06-.94-.94-2.06-.94 2.06-2.06.94z\"/><path d=\"M17.41 7.96l-1.37-1.37c-.4-.4-.92-.59-1.43-.59-.52 0-1.04.2-1.43.59L10.3 9.45l-7.72 7.72c-.78.78-.78 2.05 0 2.83L4 21.41c.39.39.9.59 1.41.59.51 0 1.02-.2 1.41-.59l7.78-7.78 2.81-2.81c.8-.78.8-2.07 0-2.86zM5.41 20L4 18.59l7.72-7.72 1.47 1.35L5.41 20z\"/>\n",
              "  </svg>\n",
              "      </button>\n",
              "      \n",
              "  <style>\n",
              "    .colab-df-container {\n",
              "      display:flex;\n",
              "      flex-wrap:wrap;\n",
              "      gap: 12px;\n",
              "    }\n",
              "\n",
              "    .colab-df-convert {\n",
              "      background-color: #E8F0FE;\n",
              "      border: none;\n",
              "      border-radius: 50%;\n",
              "      cursor: pointer;\n",
              "      display: none;\n",
              "      fill: #1967D2;\n",
              "      height: 32px;\n",
              "      padding: 0 0 0 0;\n",
              "      width: 32px;\n",
              "    }\n",
              "\n",
              "    .colab-df-convert:hover {\n",
              "      background-color: #E2EBFA;\n",
              "      box-shadow: 0px 1px 2px rgba(60, 64, 67, 0.3), 0px 1px 3px 1px rgba(60, 64, 67, 0.15);\n",
              "      fill: #174EA6;\n",
              "    }\n",
              "\n",
              "    [theme=dark] .colab-df-convert {\n",
              "      background-color: #3B4455;\n",
              "      fill: #D2E3FC;\n",
              "    }\n",
              "\n",
              "    [theme=dark] .colab-df-convert:hover {\n",
              "      background-color: #434B5C;\n",
              "      box-shadow: 0px 1px 3px 1px rgba(0, 0, 0, 0.15);\n",
              "      filter: drop-shadow(0px 1px 2px rgba(0, 0, 0, 0.3));\n",
              "      fill: #FFFFFF;\n",
              "    }\n",
              "  </style>\n",
              "\n",
              "      <script>\n",
              "        const buttonEl =\n",
              "          document.querySelector('#df-a198990e-3800-495a-a776-51e56a7517fe button.colab-df-convert');\n",
              "        buttonEl.style.display =\n",
              "          google.colab.kernel.accessAllowed ? 'block' : 'none';\n",
              "\n",
              "        async function convertToInteractive(key) {\n",
              "          const element = document.querySelector('#df-a198990e-3800-495a-a776-51e56a7517fe');\n",
              "          const dataTable =\n",
              "            await google.colab.kernel.invokeFunction('convertToInteractive',\n",
              "                                                     [key], {});\n",
              "          if (!dataTable) return;\n",
              "\n",
              "          const docLinkHtml = 'Like what you see? Visit the ' +\n",
              "            '<a target=\"_blank\" href=https://colab.research.google.com/notebooks/data_table.ipynb>data table notebook</a>'\n",
              "            + ' to learn more about interactive tables.';\n",
              "          element.innerHTML = '';\n",
              "          dataTable['output_type'] = 'display_data';\n",
              "          await google.colab.output.renderOutput(dataTable, element);\n",
              "          const docLink = document.createElement('div');\n",
              "          docLink.innerHTML = docLinkHtml;\n",
              "          element.appendChild(docLink);\n",
              "        }\n",
              "      </script>\n",
              "    </div>\n",
              "  </div>\n",
              "  "
            ]
          },
          "metadata": {},
          "execution_count": 25
        }
      ]
    },
    {
      "cell_type": "code",
      "source": [
        "# saves the wiegand feature matrix into a csv\n",
        "df_dev_wiegand.to_csv(\"dev_wiegand.csv\", index=False)"
      ],
      "metadata": {
        "id": "WDAJ9xHNl3Em"
      },
      "execution_count": 26,
      "outputs": []
    }
  ]
}
